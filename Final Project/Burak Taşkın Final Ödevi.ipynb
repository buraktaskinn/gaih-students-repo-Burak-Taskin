{
  "nbformat": 4,
  "nbformat_minor": 0,
  "metadata": {
    "colab": {
      "name": "Untitled3.ipynb",
      "provenance": [],
      "collapsed_sections": []
    },
    "kernelspec": {
      "name": "python3",
      "display_name": "Python 3"
    },
    "language_info": {
      "name": "python"
    }
  },
  "cells": [
    {
      "cell_type": "code",
      "metadata": {
        "id": "NnLzz-gsFyKo"
      },
      "source": [
        "#Final Projesi\n",
        "\n",
        "#Bilgi Yarışması\n",
        "\n",
        "sorular = {\"1 - Bilinen 118 element arasında hangi isimde bir element yoktur?\":\"A) Aynştaynyum\\nB) Newtonyum\\nC) Mendelevyum\\nD) Nobelyum\",\n",
        "             \"2 - Bayrağının ön ve arka yüzünde farklı amblemlerin yer aldığı tek ülke hangisidir?\":\"A) Sudan\\nB) Çek Cumhuriyeti\\nC) Paraguay\\nD) Bosna Hersek\",\n",
        "             \"3 - Apollo 11'in Ay’dan havalanmasını sağlayan şalter yanlışlıkla kırılınca Buzz Aldrin hangisini kırılan şalter yerine kullanıp mekiğin Ay’dan havalanmasını sağlamıştır?\":\"A) Alyans\\nB) Diş fırçası\\nC) Tükenmez kalem\\nD) Saç tokası\",\n",
        "             \"4 - Dünyada, gece aydınlatılan ilk cadde nerededir?\":\"A) İstanbul\\nB) Roma\\nC) Kudüs\\nD) Antakya\",\n",
        "             \"5 - 31 Aralık’ta nerede olursanız yeni yıla daha önce girersiniz?\":\"A) Karayip Adaları\\nB) Kanarya Adaları\\nC) Hawaii Adaları\\nD) Galapagos Adaları\",\n",
        "             \"6 - Beyin ölümü gerçekleşen insanlarda, vücudun belli bir noktasına dokununca kolların göğüste çapraz kapanmasını tetikleyen refleksin adı nedir?\":\"A) Lazarus Refleksi\\nB) Gordon Refleksi\\nC) Schaeffer Refleksi \\nD) Cornell Refleksi\",\n",
        "             \"7 - Hangi hayvan, yavru köpekleri kaçırıp, evcil hayvan olarak besleyip, bekçi köpeği olarak kullanır?\":\"A) Dağ aslanı\\nB) Antilop\\nC) Çita\\nD) Babun\",\n",
        "             \"8 - Pera Müzesi’nde sergilenen Osman Hamdi Bey’e ait “Kaplumbağa Terbiyecisi” tablosunda yerde kaç adet kaplumbağa vardır?\":\"A) 5\\nB) 1\\nC) 7\\nD) 3\",\n",
        "             \"9 - ABD Ulusal Arşivi’nden en çok talep edilen fotoğraf, neyin fotoğrafıdır?\":\"A) Bahriyelinin bir kızı öpme anı\\nB) Nixon ve Elvis'in el sıkışması\\nC) Abraham Lincoln'ün portresi\\nD) Marilyn Monroe'nun uçuşan eteği\",\n",
        "             \"10 - Yunan mitolojisinde, vücudunun üst tarafı hayvan, alt tarafı insan olan yaratık hangisidir?\":\"A) Kimera\\nB) Sentor\\nC) Minotor\\nD) Siren\"}\n",
        "\n",
        "cevap_anahtarı = [\"B\",\"C\",\"C\",\"D\",\"B\",\"A\",\"D\",\"A\",\"B\",\"C\"]\n",
        "\n",
        "i = 0\n",
        "toplam = 0\n",
        "\n",
        "print(\"Hoşgeldiniz sevgili seyirciler.\\n\",\"Burak Taşkın'ın sunduğu Bilgi yarışması başlıyor. Bu gün aramızda çok değerli bir yarışmacımız var. Heyecan var mı? Hazır mısınız?\\n\")\n",
        "input(\"Cevap: \")\n",
        "print(\"\\nÖncelikle sizi biraz tanıyalım.\")\n",
        "Ad=input(\"Adınız: \").upper()\n",
        "Soyad=input(\"Soyadınız: \").upper()\n",
        "print(\"Sevgili\", Ad, \",\",\"Ne işle meşgulsün?\")\n",
        "input(\"Cevap: \")\n",
        "print(\"Seni tanıdığıma memnun oldum\", Ad, \" !\", \"\\n\")\n",
        "print(\"\\nYarışmaya Tekrar Hoş Geldin \", Ad, \" \", Soyad,\"\\nBaşarılar dilerim!\", \"\\n İşte senin için hazırladığımız sorular: \\n\\n\")\n",
        "\n",
        "for soru,seçenek in sorular.items():\n",
        "    print(soru)\n",
        "    print(seçenek)\n",
        "    verilen_cevap = input(\"Cevap: \")\n",
        "    while (len(verilen_cevap) != 1) or (verilen_cevap.upper() != \"A\" and verilen_cevap.upper() != \"B\" and verilen_cevap.upper() != \"C\" and verilen_cevap.upper() != \"D\"):\n",
        "        verilen_cevap = input(\"Lütfen Yukarıda Verilen Geçerli Şıklardan Birini Giriniz: \")\n",
        "    if cevap_anahtarı[i] == verilen_cevap.upper():\n",
        "        toplam += 10\n",
        "    i += 1\n",
        "if toplam <= 50:\n",
        "    print(\"--------------------------------------\\n\",\n",
        "          Ad, \" \", Soyad, \"Barajı Geçemediniz. Lütfen testi tekrar başlatınız. \\n İşte Puanınız:\", toplam,\n",
        "          \"\\n--------------------------------------\\n\")\n",
        "else:\n",
        "    print(\"--------------------------------------\\n\",\n",
        "          Ad, \" \", Soyad, \"Tebrikler! Barajı Geçtiniz :) \\n İşte Puanınız:\", toplam,\n",
        "          \"\\n--------------------------------------\\n\")"
      ],
      "execution_count": null,
      "outputs": []
    }
  ]
}