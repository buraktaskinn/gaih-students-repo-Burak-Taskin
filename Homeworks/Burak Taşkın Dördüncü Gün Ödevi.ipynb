{
  "nbformat": 4,
  "nbformat_minor": 0,
  "metadata": {
    "colab": {
      "name": "Untitled3.ipynb",
      "provenance": []
    },
    "kernelspec": {
      "name": "python3",
      "display_name": "Python 3"
    },
    "language_info": {
      "name": "python"
    }
  },
  "cells": [
    {
      "cell_type": "code",
      "metadata": {
        "id": "QCA93mihYPue",
        "colab": {
          "base_uri": "https://localhost:8080/"
        },
        "outputId": "ad7882a0-f752-4ff5-b27a-39b42d766243"
      },
      "source": [
        "def adlar(val):                                                                 #Sözlükten key almak için fonksiyon kullanıldı.\n",
        "    for key, value in not_ortalaması_sözlüğü.items():\n",
        "         if val == value:\n",
        "             return key\n",
        "\n",
        "\n",
        "Öğrenciler=[]                                                                   #Öğrenci isimleri için boş liste oluşturma.\n",
        "Notlar=[]                                                                       #Notlar için boş liste oluşturma.\n",
        "\n",
        "for i in  range(5):                                                             #Kullanıcıdan öğrenci isimlerinin yazılması istenir ve listeye eklenir.\n",
        "  Öğrenciler += [input(\"Lütfen öğrenci adı giriniz: \")]\n",
        "\n",
        "for i in  range(5):                                                             #Kullanıcıdan notların yazılması istenir ve listeye eklenir.\n",
        "  print(\"\\n\", Öğrenciler[i].upper(), \"için ;\")\n",
        "  Notlar += [[int(input(\"Ara Sınav Notu Giriniz: \")),\n",
        "              int(input(\"Proje Notu Giriniz: \")),\n",
        "              int(input(\"Final Notu Giriniz: \"))]]\n",
        "\n",
        "not_ortalaması_listesi=[]                                                       #Ortalama için boş liste oluşturma.\n",
        "sözlük={}                 \n",
        "not_ortalaması_sözlüğü={}                                                       #Öğrenci adı ve not için boş sözlük oluşturma.\n",
        "\n",
        "for i in range(5):                                                              #Not ortalamalarının hesaplanması.\n",
        "\tN=Notlar[i]\n",
        "\tT=format(N[0]*0.3 + N[1]*0.3 + N[2]*0.4, \".2f\" )\n",
        "\tnot_ortalaması_listesi.append(T)\n",
        " \n",
        "for i in range(5):\n",
        "    sözlük[Öğrenciler[i]]=Notlar[i]\n",
        "\n",
        "for i in range(5):                                                              #Öğrenci adı ve not sözlüğünün oluşturulması.\n",
        "    not_ortalaması_sözlüğü[Öğrenciler[i]]=not_ortalaması_listesi[i]\n",
        "\n",
        "print(\" \")                                                                      #Görsellik içim giriş satırları sonrası bir satır boşluk bırakıldı.\n",
        "\n",
        "for i,j in not_ortalaması_sözlüğü.items():                                      #Öğrenci isimleri ve notlar alt alta yazdırıldı.\n",
        "  print(i.upper(),\": \",j)\n",
        "\n",
        "val_list = list(not_ortalaması_sözlüğü.values())\n",
        "val_list.sort()                                                                 #Listeyi sıralama.\n",
        "val_list.reverse()                                                              #Sırayı tersine çevirme.\n",
        "\n",
        "                                    #En yüksek notu alan öğrenciyi ekrana yazdırma.\n",
        "print(\"\\n En Yüksek Notu Alan Öğrenci: \\n\",\n",
        "      adlar(val_list[0]).upper(),\n",
        "      \" Tebrikler Sınıf Birincisi Oldunuz !\")"
      ],
      "execution_count": 33,
      "outputs": [
        {
          "output_type": "stream",
          "text": [
            "Lütfen öğrenci adı giriniz: Aykut Kurt\n",
            "Lütfen öğrenci adı giriniz: Harun Güngör\n",
            "Lütfen öğrenci adı giriniz: Burak Taşkın\n",
            "Lütfen öğrenci adı giriniz: Emine Özalay\n",
            "Lütfen öğrenci adı giriniz: Melis Gezer\n",
            "\n",
            " AYKUT KURT için ;\n",
            "Ara Sınav Notu Giriniz: 48\n",
            "Proje Notu Giriniz: 51\n",
            "Final Notu Giriniz: 75\n",
            "\n",
            " HARUN GÜNGÖR için ;\n",
            "Ara Sınav Notu Giriniz: 56\n",
            "Proje Notu Giriniz: 65\n",
            "Final Notu Giriniz: 85\n",
            "\n",
            " BURAK TAŞKIN için ;\n",
            "Ara Sınav Notu Giriniz: 76\n",
            "Proje Notu Giriniz: 89\n",
            "Final Notu Giriniz: 98\n",
            "\n",
            " EMINE ÖZALAY için ;\n",
            "Ara Sınav Notu Giriniz: 80\n",
            "Proje Notu Giriniz: 50\n",
            "Final Notu Giriniz: 85\n",
            "\n",
            " MELIS GEZER için ;\n",
            "Ara Sınav Notu Giriniz: 70\n",
            "Proje Notu Giriniz: 78\n",
            "Final Notu Giriniz: 85\n",
            " \n",
            "AYKUT KURT :  59.70\n",
            "HARUN GÜNGÖR :  70.30\n",
            "BURAK TAŞKIN :  88.70\n",
            "EMINE ÖZALAY :  73.00\n",
            "MELIS GEZER :  78.40\n",
            "\n",
            " En Yüksek Notu Alan Öğrenci: \n",
            " BURAK TAŞKIN  Tebrikler Sınıf Birincisi Oldunuz !\n"
          ],
          "name": "stdout"
        }
      ]
    }
  ]
}