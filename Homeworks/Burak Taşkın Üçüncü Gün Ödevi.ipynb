{
  "nbformat": 4,
  "nbformat_minor": 0,
  "metadata": {
    "colab": {
      "name": "Burak Taşkın Üçüncü Gün Ödevi.ipynb",
      "provenance": []
    },
    "kernelspec": {
      "name": "python3",
      "display_name": "Python 3"
    },
    "language_info": {
      "name": "python"
    }
  },
  "cells": [
    {
      "cell_type": "code",
      "metadata": {
        "id": "bDqcjLjOLsMn"
      },
      "source": [
        "d={\"Kullanıcı Adı\":[\"Crowians\",\"WolfHead\",\"VampireTheet\",\"BloodLoss\",\"SkullHunter\"], \n",
        "   \"Parola\":[\"Crw666*\",\"Wlf123*\",\"Dracula6!\",\"Bld253\",\"BigBoss34\"]}                    #Dictionary oluşturma.\n",
        "\n",
        "kullanıcı_adı= input('Kullanıcı adını giriniz: ')                                      #Kullanıcı Adı girişi oluşturma.\n",
        "parola = input('Şifrenizi giriniz: ')                                                  #Şifre girişi oluşturma.\n",
        "\n",
        "K=d[\"Kullanıcı Adı\"]                                                                   #Kullanıcı Adı listesi oluşturma.\n",
        "P=d[\"Parola\"]                                                                          #Şifre Listesi oluştma.\n",
        "Q=()                                                                                   #Q değişkeni için öntanımlı boş liste atama.\n",
        "\n",
        "if kullanıcı_adı not in K :                                                            #Kulanıcı Adlarının içerisinde değer arama.\n",
        "  print(\"Kullanıcı Adınız Hatalı\")\n",
        "else:\n",
        "  Q=K.index(kullanıcı_adı)                                                             #Kullanıcı Adının liste indeksi.\n",
        "  if parola!=P[Q]:\n",
        "    print(\"Parola Hatalı\")                                                             #Kullanıcı Adı ile parolanın uygunluğunu sorgulama.\n",
        "  else:\n",
        "    print(\"Tebrikler, Başarıyla giriş yaptınız! Sayfaya yönlendiriliyorsunuz...\")"
      ],
      "execution_count": null,
      "outputs": []
    },
    {
      "cell_type": "code",
      "metadata": {
        "id": "QCA93mihYPue"
      },
      "source": [
        ""
      ],
      "execution_count": null,
      "outputs": []
    }
  ]
}