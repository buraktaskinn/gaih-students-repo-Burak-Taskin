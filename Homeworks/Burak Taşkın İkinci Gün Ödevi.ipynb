{
  "nbformat": 4,
  "nbformat_minor": 0,
  "metadata": {
    "colab": {
      "name": "Untitled3.ipynb",
      "provenance": []
    },
    "kernelspec": {
      "name": "python3",
      "display_name": "Python 3"
    },
    "language_info": {
      "name": "python"
    }
  },
  "cells": [
    {
      "cell_type": "code",
      "metadata": {
        "colab": {
          "base_uri": "https://localhost:8080/"
        },
        "id": "7I8z8Ve-4YJH",
        "outputId": "d838d8ab-8247-41cf-e77b-830665c7d33c"
      },
      "source": [
        "#2. Gün Ödev\n",
        " \n",
        "  #Soru 1\n",
        "\n",
        "liste=[\"B\", \"u\", \"r\", \"a\", \"k\", \"-\", \"T\", \"a\", \"ş\", \"k\", \"ı\", \"n\"]  #Listeyi oluşturdum.\n",
        "\n",
        "half=int(len(liste)*0.5)                                                 #Listedeki eleman sayısının  yarısı bulundu ve integer olarak atandı.\n",
        "ilk_yarı=liste[:half]                                                    #Listenin ilk yarısı oluşturuldu.\n",
        "ikinci_yarı=liste[half:]                                                 #Listenin ikinci yarısı oluşturuldu.\n",
        "\n",
        "birleştir=[]\n",
        "ikinci_yarı.extend(ilk_yarı)\n",
        "birleştir.extend(ikinci_yarı)\n",
        "print(birleştir)\n"
      ],
      "execution_count": 16,
      "outputs": [
        {
          "output_type": "stream",
          "text": [
            "['T', 'a', 'ş', 'k', 'ı', 'n', 'B', 'u', 'r', 'a', 'k', '-']\n"
          ],
          "name": "stdout"
        }
      ]
    },
    {
      "cell_type": "code",
      "metadata": {
        "colab": {
          "base_uri": "https://localhost:8080/"
        },
        "id": "55L1uR0A8vfx",
        "outputId": "2852a2dd-1bcb-42d6-a957-baaa2c3617e6"
      },
      "source": [
        "    #Soru 2\n",
        "\n",
        "n = int(input(\"Lütfen tek basamaklı bir sayı giriniz \"))  #Kullanıcıdan tek basamaklı bir sayı girmesi istendi ve integere dönüştürüldü.\n",
        "\n",
        "sayı=0                                                   #0'dan başlaması için değer verildi.\n",
        "while sayı<= n:                                          #Döngü 0'dan başlayıp girilen sayıya kadar(sayı dahil) yazılmasını sağlandı.\n",
        "     if(sayı %2 ==0):                                    #Çift sayıların 2 ile tam bölünebilir\n",
        "         print(\"{0}\".format(sayı))                       #0'dan itibaren koşulunu sağlayan tüm sayıların yazdırılır.\n",
        "     sayı=sayı+1                                         #While koşulundaki sayıya kadar her döngüde sayıya 1 eklenir."
      ],
      "execution_count": 22,
      "outputs": [
        {
          "output_type": "stream",
          "text": [
            "Lütfen tek basamaklı bir sayı giriniz 15\n",
            "0\n",
            "2\n",
            "4\n",
            "6\n",
            "8\n",
            "10\n",
            "12\n",
            "14\n"
          ],
          "name": "stdout"
        }
      ]
    },
    {
      "cell_type": "code",
      "metadata": {
        "id": "DMAkVF5ABqW8"
      },
      "source": [
        ""
      ],
      "execution_count": null,
      "outputs": []
    }
  ]
}